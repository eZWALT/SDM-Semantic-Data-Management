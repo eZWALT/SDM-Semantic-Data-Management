{
 "cells": [
  {
   "cell_type": "markdown",
   "id": "2ac31423",
   "metadata": {},
   "source": [
    "# ABox Summary and Descriptive Statistics\n",
    "This notebook provides an overview of the RDF knowledge graph defined in the ABox.\n",
    "We compute statistics such as:\n",
    "\n",
    "- Total number of triples\n",
    "- Number of distinct classes and properties\n",
    "- Instances per class\n",
    "- Triple usage per property"
   ]
  },
  {
   "cell_type": "code",
   "execution_count": null,
   "id": "8e4efc56",
   "metadata": {},
   "outputs": [],
   "source": [
    "# Run this once if rdflib is not installed\n",
    "# !pip install rdflib matplotlib pandas\n",
    "\n",
    "from rdflib import Graph, RDF, RDFS\n",
    "from collections import defaultdict, Counter\n",
    "import matplotlib.pyplot as plt\n",
    "import pandas as pd"
   ]
  },
  {
   "cell_type": "code",
   "execution_count": null,
   "id": "ef5c0d5a",
   "metadata": {},
   "outputs": [],
   "source": [
    "g = Graph()\n",
    "abox_path = \"../GroupIvanWalter-B2-MartinezTroiani.ttl\"\n",
    "g.parse(abox_path, format=\"turtle\")\n",
    "\n",
    "print(f\"Graph loaded with {len(g)} triples.\")"
   ]
  },
  {
   "cell_type": "code",
   "execution_count": null,
   "id": "723a48d8",
   "metadata": {},
   "outputs": [],
   "source": [
    "# Count instances of each rdf:type (class)\n",
    "class_counts = defaultdict(int)\n",
    "\n",
    "for s, p, o in g.triples((None, RDF.type, None)):\n",
    "    class_counts[o] += 1\n",
    "\n",
    "# Display as sorted DataFrame\n",
    "df_classes = pd.DataFrame(class_counts.items(), columns=[\"Class\", \"Count\"])\n",
    "df_classes = df_classes.sort_values(by=\"Count\", ascending=False).reset_index(drop=True)\n",
    "df_classes"
   ]
  },
  {
   "cell_type": "code",
   "execution_count": null,
   "id": "986ca952",
   "metadata": {},
   "outputs": [],
   "source": [
    "# Barplot of instances per class\n",
    "plt.figure(figsize=(10, 5))\n",
    "plt.bar(df_classes[\"Class\"].astype(str), df_classes[\"Count\"], color=\"skyblue\")\n",
    "plt.xticks(rotation=90)\n",
    "plt.title(\"Instances per Class\")\n",
    "plt.ylabel(\"Count\")\n",
    "plt.tight_layout()\n",
    "plt.show()"
   ]
  },
  {
   "cell_type": "code",
   "execution_count": null,
   "id": "5a950773",
   "metadata": {},
   "outputs": [],
   "source": [
    "# Count of properties (predicates)\n",
    "property_counts = Counter(p for s, p, o in g)\n",
    "\n",
    "df_props = pd.DataFrame(property_counts.items(), columns=[\"Property\", \"Count\"])\n",
    "df_props = df_props.sort_values(by=\"Count\", ascending=False).reset_index(drop=True)\n",
    "df_props"
   ]
  },
  {
   "cell_type": "code",
   "execution_count": null,
   "id": "5519f657",
   "metadata": {},
   "outputs": [],
   "source": [
    "# Barplot of properties used\n",
    "plt.figure(figsize=(10, 5))\n",
    "plt.bar(df_props[\"Property\"].astype(str), df_props[\"Count\"], color=\"salmon\")\n",
    "plt.xticks(rotation=90)\n",
    "plt.title(\"Usage per Property\")\n",
    "plt.ylabel(\"Triple Count\")\n",
    "plt.tight_layout()\n",
    "plt.show()"
   ]
  },
  {
   "cell_type": "code",
   "execution_count": null,
   "id": "4a3b0d4b",
   "metadata": {},
   "outputs": [],
   "source": [
    "# Pie chart of most frequent class types\n",
    "df_top = df_classes[df_classes[\"Count\"] > 5]  # show only top classes\n",
    "plt.figure(figsize=(6, 6))\n",
    "plt.pie(df_top[\"Count\"], labels=df_top[\"Class\"].astype(str), autopct='%1.1f%%')\n",
    "plt.title(\"Distribution of Main Classes\")\n",
    "plt.show()"
   ]
  }
 ],
 "metadata": {
  "language_info": {
   "name": "python"
  }
 },
 "nbformat": 4,
 "nbformat_minor": 5
}
