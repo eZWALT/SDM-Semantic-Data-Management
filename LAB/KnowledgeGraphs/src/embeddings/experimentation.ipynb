{
 "cells": [
  {
   "cell_type": "markdown",
   "id": "82632fb0",
   "metadata": {},
   "source": [
    "# Embedding Models Experimentation (C.3)\n",
    "\n",
    "Here several embedding models are trained and evaluated :)"
   ]
  },
  {
   "cell_type": "code",
   "execution_count": null,
   "id": "0baddb1a",
   "metadata": {},
   "outputs": [
    {
     "name": "stderr",
     "output_type": "stream",
     "text": [
      "/home/wtroiani/miniconda3/envs/sdm/lib/python3.12/site-packages/tqdm/auto.py:21: TqdmWarning: IProgress not found. Please update jupyter and ipywidgets. See https://ipywidgets.readthedocs.io/en/stable/user_install.html\n",
      "  from .autonotebook import tqdm as notebook_tqdm\n"
     ]
    }
   ],
   "source": [
    "# Core libraries\n",
    "import torch\n",
    "import pandas as pd\n",
    "\n",
    "# PyKEEN core\n",
    "import pykeen\n",
    "from pykeen.pipeline import pipeline\n",
    "from pykeen.datasets import Nations\n",
    "from pykeen.triples import TriplesFactory\n",
    "import math\n",
    "\n",
    "# Optional: prediction utilities (used only for link prediction tasks)\n",
    "from pykeen import predict\n",
    "device = \"cuda\" if torch.cuda.is_available() else \"cpu\"\n"
   ]
  },
  {
   "cell_type": "code",
   "execution_count": null,
   "id": "e976d3c2",
   "metadata": {},
   "outputs": [],
   "source": [
    "# EVALUATION METRIC SCORE invented by me :)\n",
    "# It's a weighted sum between evaluation metrics and complexity, so theres a tradeoff\n",
    "\n",
    "\n",
    "def weighted_embedding_score(\n",
    "    result_dict,\n",
    "    embedding_dim,\n",
    "    num_epochs,\n",
    "    weights=None\n",
    "):\n",
    "    if weights is None:\n",
    "        weights = {\n",
    "            \"hits_at_10\": 0.4,\n",
    "            \"inverse_harmonic_mean_rank\": 0.3,\n",
    "            \"median_rank\": 0.2,\n",
    "            \"complexity\": 0.1\n",
    "        }\n",
    "\n",
    "    hits10 = result_dict[\"hits_at_10\"]\n",
    "    ihmr = result_dict[\"inverse_harmonic_mean_rank\"]\n",
    "    median = result_dict[\"median_rank\"]\n",
    "\n",
    "    complexity = math.log(embedding_dim * num_epochs + 1)\n",
    "\n",
    "    # Final score (higher is better)\n",
    "    score = (\n",
    "        weights[\"hits_at_10\"] * hits10 +\n",
    "        weights[\"inverse_harmonic_mean_rank\"] * ihmr +\n",
    "        weights[\"median_rank\"] * (1 / (1 + median)) -\n",
    "        weights[\"complexity\"] * complexity\n",
    "    )\n",
    "\n",
    "    return {\n",
    "        \"score\": score,\n",
    "        \"components\": {\n",
    "            \"hits@10\": hits10,\n",
    "            \"ihmr\": ihmr,\n",
    "            \"1/(1+median)\": 1 / (1 + median),\n",
    "            \"log_complexity\": complexity\n",
    "        }\n",
    "    }\n"
   ]
  },
  {
   "cell_type": "markdown",
   "id": "9dd3f808",
   "metadata": {},
   "source": [
    "## Experiment 1: ???"
   ]
  },
  {
   "cell_type": "code",
   "execution_count": null,
   "id": "bf7bc8b3",
   "metadata": {},
   "outputs": [
    {
     "name": "stderr",
     "output_type": "stream",
     "text": [
      "using automatically assigned random_state=2033177419\n",
      "Training epochs on cpu: 100%|██████████| 20/20 [00:08<00:00,  2.22epoch/s, loss=0.267, prev_loss=0.275]\n",
      "WARNING:pykeen.utils:Using automatic batch size on device.type='cpu' can cause unexplained out-of-memory crashes. Therefore, we use a conservative small batch_size=32. Performance may be improved by explicitly specifying a larger batch size.\n",
      "Evaluating on cpu:   0%|          | 0.00/2.00k [00:00<?, ?triple/s]WARNING:torch_max_mem.api:Encountered tensors on device_types={'cpu'} while only ['cuda'] are considered safe for automatic memory utilization maximization. This may lead to undocumented crashes (but can be safe, too).\n",
      "Evaluating on cpu: 100%|██████████| 2.00k/2.00k [00:06<00:00, 289triple/s]\n",
      "INFO:pykeen.evaluation.evaluator:Evaluation took 6.94s seconds\n"
     ]
    }
   ],
   "source": [
    "file_path = \"../../data/graph_export.tsv\"\n",
    "tf = TriplesFactory.from_path(file_path)\n",
    "training, testing = tf.split()\n",
    "\n",
    "result = pipeline(\n",
    "    training=training,\n",
    "    testing=testing,\n",
    "    model=\"TransE\",\n",
    "    model_kwargs=dict(\n",
    "        embedding_dim=128,\n",
    "    ),\n",
    "    training_kwargs=dict(\n",
    "        num_epochs=20\n",
    "    ),\n",
    "    optimizer_kwargs=dict(\n",
    "        lr=0.01,\n",
    "    ),\n",
    "    negative_sampler_kwargs=dict(\n",
    "        num_negs_per_pos=1,\n",
    "    ),\n",
    "    random_seed=2025,\n",
    "    device = device\n",
    ")"
   ]
  },
  {
   "cell_type": "code",
   "execution_count": null,
   "id": "b9272286",
   "metadata": {},
   "outputs": [
    {
     "data": {
      "text/plain": [
       "{'count': 4002.0,\n",
       " 'inverse_geometric_mean_rank': 0.03148800879716873,\n",
       " 'adjusted_inverse_harmonic_mean_rank': 0.15029553120341257,\n",
       " 'median_absolute_deviation': 32.61724880712324,\n",
       " 'adjusted_geometric_mean_rank_index': 0.976699575088844,\n",
       " 'arithmetic_mean_rank': 240.5442352294922,\n",
       " 'variance': 234525.546875,\n",
       " 'adjusted_arithmetic_mean_rank_index': 0.8686105716136165,\n",
       " 'geometric_mean_rank': 31.758119583129883,\n",
       " 'standard_deviation': 484.27838134765625,\n",
       " 'adjusted_arithmetic_mean_rank': 0.13186559798709938,\n",
       " 'inverse_arithmetic_mean_rank': 0.004157239571213722,\n",
       " 'inverse_harmonic_mean_rank': 0.15240496397018433,\n",
       " 'inverse_median_rank': 0.0416666679084301,\n",
       " 'harmonic_mean_rank': 6.561466070066029,\n",
       " 'median_rank': 24.0,\n",
       " 'z_arithmetic_mean_rank': 93.84115181764997,\n",
       " 'z_geometric_mean_rank': 62.1077244663767,\n",
       " 'z_inverse_harmonic_mean_rank': 441.3013791535653,\n",
       " 'hits_at_1': 0.03073463268365817,\n",
       " 'hits_at_3': 0.20814592703648177,\n",
       " 'hits_at_5': 0.29485257371314344,\n",
       " 'hits_at_10': 0.3900549725137431,\n",
       " 'z_hits_at_k': 459.73912736027364,\n",
       " 'adjusted_hits_at_k': 0.38831328200700294}"
      ]
     },
     "execution_count": 3,
     "metadata": {},
     "output_type": "execute_result"
    }
   ],
   "source": [
    "evaluation = result.metric_results.to_dict()\n",
    "print(evaluation['both']['realistic'])\n",
    "print(weighted_embedding_score(result, ))"
   ]
  },
  {
   "cell_type": "markdown",
   "id": "6b1fe153",
   "metadata": {},
   "source": [
    "## Experiment 2: ???"
   ]
  },
  {
   "cell_type": "code",
   "execution_count": null,
   "id": "6907b5b1",
   "metadata": {},
   "outputs": [],
   "source": []
  },
  {
   "cell_type": "markdown",
   "id": "7160010b",
   "metadata": {},
   "source": [
    "## Experiment 3: ???"
   ]
  },
  {
   "cell_type": "code",
   "execution_count": null,
   "id": "2bd4b35e",
   "metadata": {},
   "outputs": [],
   "source": []
  },
  {
   "cell_type": "markdown",
   "id": "935c3adc",
   "metadata": {},
   "source": [
    "## Experiment 4: ???"
   ]
  },
  {
   "cell_type": "code",
   "execution_count": null,
   "id": "e139552b",
   "metadata": {},
   "outputs": [],
   "source": []
  },
  {
   "cell_type": "markdown",
   "id": "881485db",
   "metadata": {},
   "source": [
    "## Experiment 5: ???"
   ]
  },
  {
   "cell_type": "code",
   "execution_count": null,
   "id": "e7ec969b",
   "metadata": {},
   "outputs": [],
   "source": []
  }
 ],
 "metadata": {
  "kernelspec": {
   "display_name": "sdm",
   "language": "python",
   "name": "python3"
  },
  "language_info": {
   "codemirror_mode": {
    "name": "ipython",
    "version": 3
   },
   "file_extension": ".py",
   "mimetype": "text/x-python",
   "name": "python",
   "nbconvert_exporter": "python",
   "pygments_lexer": "ipython3",
   "version": "3.12.11"
  }
 },
 "nbformat": 4,
 "nbformat_minor": 5
}
