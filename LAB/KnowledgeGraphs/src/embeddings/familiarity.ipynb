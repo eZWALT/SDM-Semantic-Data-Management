{
 "cells": [
  {
   "cell_type": "code",
   "execution_count": null,
   "id": "e26d6abc",
   "metadata": {},
   "outputs": [],
   "source": [
    "import torch\n",
    "import pandas as pd\n",
    "# PyKEEN core\n",
    "import pykeen\n",
    "from pykeen.pipeline import pipeline\n",
    "from pykeen.datasets import Nations\n",
    "from pykeen.triples import TriplesFactory\n",
    "import math\n",
    "from pykeen import predict\n",
    "device = \"cuda\" if torch.cuda.is_available() else \"cpu\""
   ]
  },
  {
   "cell_type": "markdown",
   "id": "12ac94f6",
   "metadata": {},
   "source": [
    "## Train Model"
   ]
  },
  {
   "cell_type": "code",
   "execution_count": null,
   "id": "3b89696e",
   "metadata": {},
   "outputs": [],
   "source": [
    "\n",
    "# 1. TRAIN THE TransE model \n",
    "\n",
    "file_path = \"../../data/graph_export.tsv\"\n",
    "tf = TriplesFactory.from_path(file_path)\n",
    "training, testing = tf.split()\n",
    "\n",
    "result = pipeline(\n",
    "    training=training,\n",
    "    testing=testing,\n",
    "    model=\"TransE\",\n",
    "    model_kwargs=dict(\n",
    "        embedding_dim=256,\n",
    "    ),\n",
    "    training_kwargs=dict(\n",
    "        num_epochs=25\n",
    "    ),\n",
    "    optimizer_kwargs=dict(\n",
    "        lr=0.01,\n",
    "    ),\n",
    "    negative_sampler_kwargs=dict(\n",
    "        num_negs_per_pos=1,\n",
    "    ),\n",
    "    random_seed=2025,\n",
    "    device = device\n",
    ")"
   ]
  },
  {
   "cell_type": "markdown",
   "id": "a330f961",
   "metadata": {},
   "source": [
    "## Citing Paper and Author prediction"
   ]
  },
  {
   "cell_type": "code",
   "execution_count": null,
   "id": "a57e534d",
   "metadata": {},
   "outputs": [],
   "source": [
    "# 2. Choose 1 paper ?\n",
    "\n",
    "# 3 (Link prediction) -> (Paper A :cites Paper B) find B\n",
    "\n",
    "# 4. (Link prediction) -> (Paper A :hasCorrespondingAuthor Author T) find T"
   ]
  }
 ],
 "metadata": {
  "language_info": {
   "name": "python"
  }
 },
 "nbformat": 4,
 "nbformat_minor": 5
}
