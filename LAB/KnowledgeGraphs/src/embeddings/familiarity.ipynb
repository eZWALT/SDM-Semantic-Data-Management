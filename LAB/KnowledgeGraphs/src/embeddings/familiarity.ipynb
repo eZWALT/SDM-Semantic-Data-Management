{
 "cells": [
  {
   "cell_type": "code",
   "execution_count": 1,
   "id": "e26d6abc",
   "metadata": {},
   "outputs": [
    {
     "name": "stderr",
     "output_type": "stream",
     "text": [
      "/home/wtroiani/miniconda3/envs/sdm/lib/python3.12/site-packages/tqdm/auto.py:21: TqdmWarning: IProgress not found. Please update jupyter and ipywidgets. See https://ipywidgets.readthedocs.io/en/stable/user_install.html\n",
      "  from .autonotebook import tqdm as notebook_tqdm\n"
     ]
    }
   ],
   "source": [
    "import torch\n",
    "import pandas as pd\n",
    "import numpy as np\n",
    "import os\n",
    "\n",
    "# PyKEEN core\n",
    "import pykeen\n",
    "from pykeen.pipeline import pipeline\n",
    "from pykeen.datasets import Nations\n",
    "from pykeen.triples import TriplesFactory\n",
    "from pykeen.evaluation import RankBasedEvaluator\n",
    "import math\n",
    "from pykeen import predict\n",
    "device = \"cuda\" if torch.cuda.is_available() else \"cpu\"\n",
    "\n",
    "\n",
    "from pykeen.models import TransE\n"
   ]
  },
  {
   "cell_type": "markdown",
   "id": "12ac94f6",
   "metadata": {},
   "source": [
    "## Train Model"
   ]
  },
  {
   "cell_type": "code",
   "execution_count": 4,
   "id": "3b89696e",
   "metadata": {},
   "outputs": [
    {
     "name": "stderr",
     "output_type": "stream",
     "text": [
      "WARNING:pykeen.utils:using automatically assigned random_state=571037715\n",
      "INFO:pykeen.triples.splitting:done splitting triples to groups of sizes [19931, 7193]\n",
      "INFO:pykeen.pipeline.api:Using device: cpu\n",
      "INFO:pykeen.nn.representation:Inferred unique=False for Embedding()\n",
      "INFO:pykeen.nn.representation:Inferred unique=False for Embedding()\n",
      "Training epochs on cpu: 100%|██████████| 25/25 [00:40<00:00,  1.62s/epoch, loss=0.369, prev_loss=0.364]\n",
      "WARNING:pykeen.utils:Using automatic batch size on device.type='cpu' can cause unexplained out-of-memory crashes. Therefore, we use a conservative small batch_size=32. Performance may be improved by explicitly specifying a larger batch size.\n",
      "Evaluating on cpu:   0%|          | 0.00/7.19k [00:00<?, ?triple/s]WARNING:torch_max_mem.api:Encountered tensors on device_types={'cpu'} while only ['cuda'] are considered safe for automatic memory utilization maximization. This may lead to undocumented crashes (but can be safe, too).\n",
      "Evaluating on cpu: 100%|██████████| 7.19k/7.19k [01:33<00:00, 76.6triple/s]\n",
      "INFO:pykeen.evaluation.evaluator:Evaluation took 93.98s seconds\n"
     ]
    }
   ],
   "source": [
    "\n",
    "# 1. TRAIN THE TransE model \n",
    "triples_path = \"../../abox_export.tsv\"\n",
    "tf = TriplesFactory.from_path(triples_path)\n",
    "train_tf, test_tf = tf.split([0.8, 0.2])\n",
    "\n",
    "# Train a TransE model\n",
    "result = pipeline(\n",
    "    model='TransE',\n",
    "    training=train_tf,\n",
    "    testing=test_tf,\n",
    "    model_kwargs=dict(embedding_dim=256),\n",
    "    training_kwargs=dict(num_epochs=25),\n",
    "    negative_sampler_kwargs=dict(\n",
    "        num_negs_per_pos=3,\n",
    "    ),\n",
    "    optimizer_kwargs=dict(lr=0.01),\n",
    "    random_seed=42,\n",
    "    device='cuda' if torch.cuda.is_available() else 'cpu',\n",
    ")"
   ]
  },
  {
   "cell_type": "markdown",
   "id": "a330f961",
   "metadata": {},
   "source": [
    "## Citing Paper and Author prediction"
   ]
  },
  {
   "cell_type": "code",
   "execution_count": 6,
   "id": "b85563a8",
   "metadata": {},
   "outputs": [
    {
     "data": {
      "text/plain": [
       "{'<http://SDM.org/research/aboutTopic>': 0,\n",
       " '<http://SDM.org/research/cites>': 1,\n",
       " '<http://SDM.org/research/hasAbstract>': 2,\n",
       " '<http://SDM.org/research/hasAuthor>': 3,\n",
       " '<http://SDM.org/research/hasContent>': 4,\n",
       " '<http://SDM.org/research/hasCorrespondingAuthor>': 5,\n",
       " '<http://SDM.org/research/hasEdition>': 6,\n",
       " '<http://SDM.org/research/hasKeywords>': 7,\n",
       " '<http://SDM.org/research/hasNumber>': 8,\n",
       " '<http://SDM.org/research/hasProceedings>': 9,\n",
       " '<http://SDM.org/research/hasReview>': 10,\n",
       " '<http://SDM.org/research/hasVolume>': 11,\n",
       " '<http://SDM.org/research/heldIn>': 12,\n",
       " '<http://SDM.org/research/heldOn>': 13,\n",
       " '<http://SDM.org/research/includesPaper>': 14,\n",
       " '<http://SDM.org/research/performedBy>': 15,\n",
       " '<http://SDM.org/research/publishedIn>': 16,\n",
       " '<http://SDM.org/research/volumeYear>': 17,\n",
       " '<http://www.w3.org/1999/02/22-rdf-syntax-ns#type>': 18,\n",
       " '<http://www.w3.org/2000/01/rdf-schema#domain>': 19,\n",
       " '<http://www.w3.org/2000/01/rdf-schema#range>': 20,\n",
       " '<http://www.w3.org/2000/01/rdf-schema#subClassOf>': 21,\n",
       " '<http://www.w3.org/2000/01/rdf-schema#subPropertyOf>': 22,\n",
       " '?p': 23}"
      ]
     },
     "execution_count": 6,
     "metadata": {},
     "output_type": "execute_result"
    }
   ],
   "source": [
    "relation_to_id"
   ]
  },
  {
   "cell_type": "code",
   "execution_count": 13,
   "id": "a57e534d",
   "metadata": {},
   "outputs": [
    {
     "name": "stderr",
     "output_type": "stream",
     "text": [
      "WARNING:pykeen.triples.triples_factory:Reconstructing all label-based triples. This is expensive and rarely needed.\n",
      "WARNING:pykeen.triples.triples_factory:Reconstructing all label-based triples. This is expensive and rarely needed.\n"
     ]
    },
    {
     "name": "stdout",
     "output_type": "stream",
     "text": [
      "Test Paper: <http://SDM.org/research/MAGIC_Microlensing_Analysis_Guided_by_Intelligent_Computation>\n",
      "Predicted Cited Paper: <http://SDM.org/research/Identifying_multi-target_drugs_for_prostate_cancer_using_machine_learning-assisted_transcriptomic_analysis>\n",
      "Predicted Author: <http://SDM.org/research/Hugo_Richard>\n"
     ]
    }
   ],
   "source": [
    "import torch\n",
    "\n",
    "model = result.model\n",
    "entity_to_id = tf.entity_to_id\n",
    "relation_to_id = tf.relation_to_id\n",
    "id_to_entity = {v: k for k, v in entity_to_id.items()}\n",
    "\n",
    "# Step 1: Extract all triples from the full triples factory (training + test)\n",
    "all_triples = tf.triples\n",
    "\n",
    "# Step 2: Build sets of paper and author entity IDs by looking at the relations\n",
    "author_entities = set()\n",
    "paper_entities = set()\n",
    "\n",
    "for head, rel, tail in all_triples:\n",
    "    if rel == '<http://SDM.org/research/hasAuthor>':\n",
    "        # Head is paper, tail is author\n",
    "        if head in entity_to_id:\n",
    "            paper_entities.add(entity_to_id[head])\n",
    "        if tail in entity_to_id:\n",
    "            author_entities.add(entity_to_id[tail])\n",
    "    elif rel == '<http://SDM.org/research/cites>':\n",
    "        # Both head and tail are papers\n",
    "        if head in entity_to_id:\n",
    "            paper_entities.add(entity_to_id[head])\n",
    "        if tail in entity_to_id:\n",
    "            paper_entities.add(entity_to_id[tail])\n",
    "\n",
    "# Step 3: Pick a test triple (paper, relation, entity)\n",
    "test_triple = test_tf.triples[0]\n",
    "paper_id = test_triple[0]\n",
    "print(\"Test Paper:\", paper_id)\n",
    "\n",
    "device = next(model.parameters()).device\n",
    "paper_idx = entity_to_id[paper_id]\n",
    "cites_idx = relation_to_id['<http://SDM.org/research/cites>']\n",
    "author_idx = relation_to_id['<http://SDM.org/research/hasAuthor>']\n",
    "\n",
    "# Step 4: Get embeddings for the paper and relations\n",
    "paper_emb = model.entity_representations[0](torch.tensor([paper_idx], device=device))\n",
    "cites_emb = model.relation_representations[0](torch.tensor([cites_idx], device=device))\n",
    "author_emb = model.relation_representations[0](torch.tensor([author_idx], device=device))\n",
    "\n",
    "all_entities_emb = model.entity_representations[0]().detach()\n",
    "\n",
    "# --- Predict cited paper (head + relation ≈ tail) ---\n",
    "expected_cited = paper_emb + cites_emb\n",
    "distances = torch.norm(all_entities_emb - expected_cited, dim=1)\n",
    "\n",
    "# Filter out self and non-paper entities\n",
    "distances[paper_idx] = float('inf')  # exclude self\n",
    "for idx in range(len(distances)):\n",
    "    if idx not in paper_entities:\n",
    "        distances[idx] = float('inf')\n",
    "\n",
    "predicted_cited_idx = torch.argmin(distances).item()\n",
    "print(\"Predicted Cited Paper:\", id_to_entity[predicted_cited_idx])\n",
    "\n",
    "# --- Predict author (paper - relation ≈ author) ---\n",
    "expected_author = paper_emb - author_emb\n",
    "distances = torch.norm(all_entities_emb - expected_author, dim=1)\n",
    "\n",
    "# Filter out non-author entities\n",
    "for idx in range(len(distances)):\n",
    "    if idx not in author_entities:\n",
    "        distances[idx] = float('inf')\n",
    "\n",
    "predicted_author_idx = torch.argmin(distances).item()\n",
    "print(\"Predicted Author:\", id_to_entity[predicted_author_idx])\n"
   ]
  }
 ],
 "metadata": {
  "kernelspec": {
   "display_name": "sdm",
   "language": "python",
   "name": "python3"
  },
  "language_info": {
   "codemirror_mode": {
    "name": "ipython",
    "version": 3
   },
   "file_extension": ".py",
   "mimetype": "text/x-python",
   "name": "python",
   "nbconvert_exporter": "python",
   "pygments_lexer": "ipython3",
   "version": "3.12.11"
  }
 },
 "nbformat": 4,
 "nbformat_minor": 5
}
